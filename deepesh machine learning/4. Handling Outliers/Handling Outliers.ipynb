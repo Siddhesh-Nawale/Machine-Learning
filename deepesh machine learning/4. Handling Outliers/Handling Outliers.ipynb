{
 "cells": [
  {
   "cell_type": "markdown",
   "metadata": {
    "colab_type": "text",
    "id": "V7i7Mb3WKWtI"
   },
   "source": [
    "<center><img src=\"https://github.com/insaid2018/Term-1/blob/master/Images/INSAID_Full%20Logo.png?raw=true\" width=\"240\" height=\"120\" /></center>\n",
    "\n",
    "<h1><center><strong>Handling Outliers</strong></center></h1>"
   ]
  },
  {
   "cell_type": "markdown",
   "metadata": {
    "colab_type": "text",
    "id": "LKqoTLYsbj63"
   },
   "source": [
    "# **Table of Contents**\n",
    "\n",
    "1. [Introduction](#Section1)<br><br>\n",
    "2. [Standard Deviation Method](#Section2)<br><br>\n",
    "3. [Interquartile Range Method](#Section3)<br><br>\n",
    "4. [Automatic Outlier Detection](#Section4)<br><br>"
   ]
  },
  {
   "cell_type": "markdown",
   "metadata": {
    "colab_type": "text",
    "id": "76Wh5CEJxUFl"
   },
   "source": [
    "<a id = Section1></a>\n",
    "### **1. Introduction**"
   ]
  },
  {
   "cell_type": "markdown",
   "metadata": {
    "colab_type": "text",
    "id": "BqPYLDyGAeFh"
   },
   "source": [
    "**Creating a Test Dataset for Outlier Detection and Removal**"
   ]
  },
  {
   "cell_type": "code",
   "execution_count": 1,
   "metadata": {
    "colab": {},
    "colab_type": "code",
    "id": "Uq03pYJAIOM_"
   },
   "outputs": [],
   "source": [
    "import numpy as np"
   ]
  },
  {
   "cell_type": "code",
   "execution_count": 42,
   "metadata": {
    "colab": {},
    "colab_type": "code",
    "id": "aEoFVmV6AwLG"
   },
   "outputs": [
    {
     "data": {
      "text/plain": [
       "<function ndarray.astype>"
      ]
     },
     "execution_count": 42,
     "metadata": {},
     "output_type": "execute_result"
    }
   ],
   "source": [
    "# Seed the random number generator\n",
    "np.random.seed(1)\n",
    "\n",
    "# Generate univariate observations\n",
    "data = 5 * np.random.randn(10000) + 50\n",
    "data.astype"
   ]
  },
  {
   "cell_type": "markdown",
   "metadata": {
    "colab_type": "text",
    "id": "YlqbZ_i_AbXJ"
   },
   "source": [
    "<a id = Section2></a>\n",
    "### **2. Standard Deviation Method**"
   ]
  },
  {
   "cell_type": "markdown",
   "metadata": {
    "colab_type": "text",
    "id": "WO54IAy1Ie00"
   },
   "source": [
    "- If we know that the **distribution** of values in the sample is **Gaussian** or **Gaussian-like**, we can use the **standard deviation** of the sample as a **cut-off** for identifying **outliers**.\n",
    "\n",
    "- The **Gaussian distribution** has the **property** that the **standard deviation from** the **mean** can be used to reliably **summarize** the **percentage** of **values** in the sample.\n",
    "\n",
    "- For example, within **one standard deviation** of the **mean** will cover **68%** of the **data**.\n",
    "\n",
    "- We can cover more of the data sample if we expand the range as follows:\n",
    "\n",
    "  - **1** Standard Deviation from the Mean: **68%**\n",
    "    \n",
    "  - **2** Standard Deviations from the Mean: **95%**\n",
    "    \n",
    "  - **3** Standard Deviations from the Mean: **99.7%**\n",
    "\n",
    "<br> \n",
    "\n",
    "- A **value** that falls **outside** of **3 standard deviations** is part of the distribution, but it is an **unlikely** or **rare** event at approximately **1 in 370 samples**.\n",
    "\n",
    "- **Three** standard deviations from the mean is a **common cut-off** in practice for identifying outliers in a Gaussian or Gaussian-like distribution.\n",
    "\n",
    "- For **smaller** samples of **data**, perhaps a value of **2** standard deviations (**95%**) can be used, and for **larger samples**, perhaps a value of **4** standard deviations (**99.9%**) can be used."
   ]
  },
  {
   "cell_type": "markdown",
   "metadata": {
    "colab_type": "text",
    "id": "fmWhZ6qGAovi"
   },
   "source": [
    "- We can calculate the **mean** and **standard deviation** of a given sample.\n",
    "\n",
    "- Then calculate the **cut-off** for identifying **outliers** as more than **3** standard deviations from the mean."
   ]
  },
  {
   "cell_type": "code",
   "execution_count": 3,
   "metadata": {
    "colab": {
     "base_uri": "https://localhost:8080/",
     "height": 50
    },
    "colab_type": "code",
    "executionInfo": {
     "elapsed": 2471,
     "status": "ok",
     "timestamp": 1591640332681,
     "user": {
      "displayName": "Mohit Raj",
      "photoUrl": "",
      "userId": "08119631072718595861"
     },
     "user_tz": -330
    },
    "id": "8EJUS0S5A0NP",
    "outputId": "66cf92fd-8190-4dc5-bea6-2b291b44c974"
   },
   "outputs": [
    {
     "name": "stdout",
     "output_type": "stream",
     "text": [
      "Mean: 50.04886328349552\n",
      "Standard Deviation: 4.993929218440242\n"
     ]
    }
   ],
   "source": [
    "# Calculate summary statistics\n",
    "data_mean, data_std = np.mean(data), np.std(data)\n",
    "print('Mean:', data_mean)\n",
    "print('Standard Deviation:', data_std)"
   ]
  },
  {
   "cell_type": "markdown",
   "metadata": {
    "colab_type": "text",
    "id": "kyvwfhNNK549"
   },
   "source": [
    "- The **mean** of the sample is **50.04** and the **standard deviation** is **4.99**"
   ]
  },
  {
   "cell_type": "code",
   "execution_count": 4,
   "metadata": {
    "colab": {
     "base_uri": "https://localhost:8080/",
     "height": 67
    },
    "colab_type": "code",
    "executionInfo": {
     "elapsed": 1284,
     "status": "ok",
     "timestamp": 1591640411928,
     "user": {
      "displayName": "Mohit Raj",
      "photoUrl": "",
      "userId": "08119631072718595861"
     },
     "user_tz": -330
    },
    "id": "Z0v52Fg0A0K8",
    "outputId": "09d197e8-a3e9-4857-822b-38b8fd7789c5"
   },
   "outputs": [
    {
     "name": "stdout",
     "output_type": "stream",
     "text": [
      "Cut Off Value from Mean: 14.981787655320726\n",
      "Lower Bound: 35.06707562817479\n",
      "Upper Bound: 65.03065093881625\n"
     ]
    }
   ],
   "source": [
    "# Identify outliers\n",
    "cut_off = data_std * 3\n",
    "lower, upper = data_mean - cut_off, data_mean + cut_off\n",
    "print('Cut Off Value from Mean:', cut_off)\n",
    "print('Lower Bound:', lower)\n",
    "print('Upper Bound:', upper)"
   ]
  },
  {
   "cell_type": "markdown",
   "metadata": {
    "colab_type": "text",
    "id": "t5ws1ucsLDCU"
   },
   "source": [
    "- The calculated **cut-off** value for identifying outliers is **14.98** from **mean**.\n",
    "\n",
    "- Using this value:\n",
    "\n",
    "  - The **lower bound** for outliers is **35.06**\n",
    "\n",
    "  - The **upper bound** for outliers is **65.03**\n",
    "\n",
    "- Any value **outside** these **bounds** will be treated as an **outlier**."
   ]
  },
  {
   "cell_type": "markdown",
   "metadata": {
    "colab_type": "text",
    "id": "I3Zv0NR1BhB0"
   },
   "source": [
    "- **Filtering** out those **values** from the data that are **not within** the **defined limits**."
   ]
  },
  {
   "cell_type": "code",
   "execution_count": 5,
   "metadata": {
    "colab": {
     "base_uri": "https://localhost:8080/",
     "height": 34
    },
    "colab_type": "code",
    "executionInfo": {
     "elapsed": 1017,
     "status": "ok",
     "timestamp": 1591640478038,
     "user": {
      "displayName": "Mohit Raj",
      "photoUrl": "",
      "userId": "08119631072718595861"
     },
     "user_tz": -330
    },
    "id": "gPm6CdqlA0H0",
    "outputId": "5ba8d1dc-c96d-411a-ffb4-6420b2590af3"
   },
   "outputs": [
    {
     "name": "stdout",
     "output_type": "stream",
     "text": [
      "Identified outliers: 29\n"
     ]
    }
   ],
   "source": [
    "# Identify outliers\n",
    "outliers = [x for x in data if x < lower or x > upper]\n",
    "print('Identified outliers: %d' % len(outliers))"
   ]
  },
  {
   "cell_type": "markdown",
   "metadata": {
    "colab_type": "text",
    "id": "zNoXIsNkBhiJ"
   },
   "source": [
    "- We identified a total of **29 outliers** in our data.\n",
    "\n",
    "- **Removing** the identified **outliers** from the data."
   ]
  },
  {
   "cell_type": "code",
   "execution_count": 6,
   "metadata": {
    "colab": {
     "base_uri": "https://localhost:8080/",
     "height": 34
    },
    "colab_type": "code",
    "executionInfo": {
     "elapsed": 1029,
     "status": "ok",
     "timestamp": 1591640516887,
     "user": {
      "displayName": "Mohit Raj",
      "photoUrl": "",
      "userId": "08119631072718595861"
     },
     "user_tz": -330
    },
    "id": "ykw45ojRAoOh",
    "outputId": "c320099d-1e2b-4706-c2a5-5e825c72557c"
   },
   "outputs": [
    {
     "name": "stdout",
     "output_type": "stream",
     "text": [
      "Non-outlier observations: 9971\n"
     ]
    }
   ],
   "source": [
    "# Remove outliers\n",
    "outliers_removed = [x for x in data if x >= lower and x <= upper]\n",
    "print('Non-outlier observations: %d' % len(outliers_removed))"
   ]
  },
  {
   "cell_type": "markdown",
   "metadata": {
    "colab_type": "text",
    "id": "OT7ajZJkBh_q"
   },
   "source": [
    "- We have **removed** the **outliers** from the data and are left with **9971** samples."
   ]
  },
  {
   "cell_type": "markdown",
   "metadata": {
    "colab_type": "text",
    "id": "EkYnAlfAA74c"
   },
   "source": [
    "<a id = Section3></a>\n",
    "### **3. Interquartile Range Method**"
   ]
  },
  {
   "cell_type": "markdown",
   "metadata": {
    "colab_type": "text",
    "id": "n14FE84nBASq"
   },
   "source": [
    "- **Not all data** is **normal** or normal enough to treat it as being drawn from a Gaussian distribution.\n",
    "\n",
    "- A good statistic for **summarizing** a **non-Gaussian distribution** sample of data is the **Interquartile Range**, or **IQR** for short.\n",
    "\n",
    "- The IQR is calculated as the **difference between** the **75th** and the **25th percentiles** of the data and **defines** the **box** in a **box and whisker plot**.\n",
    "\n",
    "- The **percentiles** can be **calculated** by **sorting** the **observations** and **selecting values** at **specific indices**.\n",
    "\n",
    "  - The **50th percentile** is the **middle** value, or the **average** of the **two middle values** for an even number of examples.\n",
    "  \n",
    "  - If we had **10,000** samples, then the **50th percentile** would be the **average** of the **5000th** and **5001st** values.\n",
    "\n",
    "- We refer to the **percentiles** as **quartiles** (**“quart” meaning 4**) because the **data** is **divided** into **four groups** via the **25th**, **50th** and **75th** values.\n",
    "\n",
    "- The **IQR** defines the **middle 50%** of the data, or the body of the data."
   ]
  },
  {
   "cell_type": "markdown",
   "metadata": {
    "colab_type": "text",
    "id": "embp15VbBi4t"
   },
   "source": [
    "- The **IQR** can be used to **identify outliers** by defining limits on the sample values that are a **factor k** of the IQR **below** the **25th** percentile or **above** the **75th** percentile.\n",
    "\n",
    "  - The common value for the factor **k** is the value **1.5**.\n",
    "  \n",
    "  - A factor **k** of **3** or more can be used to identify values that are **extreme outliers** or **“far outs”** when described in the context of box and whisker plots.\n",
    "\n",
    "- On a **box and whisker plot**, these limits are drawn as **fences** on the **whiskers** (or the lines) that are drawn from the box.\n",
    "\n",
    "- **Values** that fall **outside** of **these** values are drawn as **dots**."
   ]
  },
  {
   "cell_type": "code",
   "execution_count": 7,
   "metadata": {
    "colab": {},
    "colab_type": "code",
    "id": "ZYp5oRcFNA8g"
   },
   "outputs": [],
   "source": [
    "import matplotlib.pyplot as plt\n",
    "%matplotlib inline\n",
    "\n",
    "import seaborn as sns"
   ]
  },
  {
   "cell_type": "code",
   "execution_count": 8,
   "metadata": {
    "colab": {
     "base_uri": "https://localhost:8080/",
     "height": 312
    },
    "colab_type": "code",
    "executionInfo": {
     "elapsed": 2146,
     "status": "ok",
     "timestamp": 1591641347756,
     "user": {
      "displayName": "Mohit Raj",
      "photoUrl": "",
      "userId": "08119631072718595861"
     },
     "user_tz": -330
    },
    "id": "uJO_0z-sNBVb",
    "outputId": "3b96dfca-02c8-455e-c2fd-ed477db68722"
   },
   "outputs": [
    {
     "data": {
      "text/plain": [
       "Text(0.5, 1.0, 'Box and Whisker Plot')"
      ]
     },
     "execution_count": 8,
     "metadata": {},
     "output_type": "execute_result"
    },
    {
     "data": {
      "image/png": "[encoded data removed]",
      "text/plain": [
       "<Figure size 720x288 with 1 Axes>"
      ]
     },
     "metadata": {
      "needs_background": "light"
     },
     "output_type": "display_data"
    }
   ],
   "source": [
    "plt.figure(figsize=(10, 4))\n",
    "sns.boxplot(data, palette='viridis')\n",
    "plt.xlabel('Values')\n",
    "plt.title('Box and Whisker Plot')"
   ]
  },
  {
   "cell_type": "markdown",
   "metadata": {
    "colab_type": "text",
    "id": "MJ0PiNK5OAu5"
   },
   "source": [
    "- We can see the **quartiles** and **fences** in the boxplot.\n",
    "\n",
    "- Also, the **points outside** the **fences** are drawn as **dots**, meaning they are **outliers**.\n",
    "\n",
    "<br> \n",
    "\n",
    "- We will now **calculate** the **quartiles**, and **IQR** of our data."
   ]
  },
  {
   "cell_type": "code",
   "execution_count": 9,
   "metadata": {
    "colab": {
     "base_uri": "https://localhost:8080/",
     "height": 34
    },
    "colab_type": "code",
    "executionInfo": {
     "elapsed": 1010,
     "status": "ok",
     "timestamp": 1591641525101,
     "user": {
      "displayName": "Mohit Raj",
      "photoUrl": "",
      "userId": "08119631072718595861"
     },
     "user_tz": -330
    },
    "id": "VEf79NsSBGmu",
    "outputId": "b6000228-8b8a-465f-d69f-a9dc47333491"
   },
   "outputs": [
    {
     "name": "stdout",
     "output_type": "stream",
     "text": [
      "Percentiles: 25th=46.685, 75th=53.359, IQR=6.674\n"
     ]
    }
   ],
   "source": [
    "# Calculate Interquartile range\n",
    "q25, q75 = np.percentile(data, 25), np.percentile(data, 75)\n",
    "iqr = q75 - q25\n",
    "print('Percentiles: 25th=%.3f, 75th=%.3f, IQR=%.3f' % (q25, q75, iqr))"
   ]
  },
  {
   "cell_type": "markdown",
   "metadata": {
    "colab_type": "text",
    "id": "RM1F4vDJBjZ-"
   },
   "source": [
    "- The **25th** percentile is at **46.685**, the **75th** percentile is at **53.359**\n",
    "\n",
    "- The **IQR** for the data is **6.674**\n",
    "\n",
    "<br> \n",
    "\n",
    "- Now, **calculating** the **outlier cut-off** value."
   ]
  },
  {
   "cell_type": "code",
   "execution_count": 10,
   "metadata": {
    "colab": {
     "base_uri": "https://localhost:8080/",
     "height": 67
    },
    "colab_type": "code",
    "executionInfo": {
     "elapsed": 1249,
     "status": "ok",
     "timestamp": 1591641713298,
     "user": {
      "displayName": "Mohit Raj",
      "photoUrl": "",
      "userId": "08119631072718595861"
     },
     "user_tz": -330
    },
    "id": "uRCxsZR6BGtD",
    "outputId": "d1e1e39a-a364-40d8-e302-c5868d265327"
   },
   "outputs": [
    {
     "name": "stdout",
     "output_type": "stream",
     "text": [
      "Cut Off Value from 25th and 75th Quartiles: 10.01050258029353\n",
      "Lower Bound: 36.67487321019591\n",
      "Upper Bound: 63.369546757645324\n"
     ]
    }
   ],
   "source": [
    "# Calculate the outlier cutoff\n",
    "cut_off = iqr * 1.5\n",
    "lower, upper = q25 - cut_off, q75 + cut_off\n",
    "print('Cut Off Value from 25th and 75th Quartiles:', cut_off)\n",
    "print('Lower Bound:', lower)\n",
    "print('Upper Bound:', upper)"
   ]
  },
  {
   "cell_type": "markdown",
   "metadata": {
    "colab_type": "text",
    "id": "MZeUJTclBj8z"
   },
   "source": [
    "- The calculated **cut-off** value for identifying outliers is **10.01** from the 25th and 75th quartiles.\n",
    "\n",
    "- Using this value:\n",
    "\n",
    "  - The **lower bound** for outliers is **36.67**\n",
    "\n",
    "  - The **upper bound** for outliers is **63.36**\n",
    "\n",
    "- Any value **outside** these **bounds** will be treated as an **outlier**."
   ]
  },
  {
   "cell_type": "markdown",
   "metadata": {
    "colab_type": "text",
    "id": "FHXDbwGsPug1"
   },
   "source": [
    "- **Filtering** out those **values** from the data that are **not within** the **defined limits**."
   ]
  },
  {
   "cell_type": "code",
   "execution_count": 11,
   "metadata": {
    "colab": {
     "base_uri": "https://localhost:8080/",
     "height": 34
    },
    "colab_type": "code",
    "executionInfo": {
     "elapsed": 1465,
     "status": "ok",
     "timestamp": 1591641840825,
     "user": {
      "displayName": "Mohit Raj",
      "photoUrl": "",
      "userId": "08119631072718595861"
     },
     "user_tz": -330
    },
    "id": "ylA0EI_FBTkd",
    "outputId": "d70008cf-f61e-4c29-d194-fb602cae4f64"
   },
   "outputs": [
    {
     "name": "stdout",
     "output_type": "stream",
     "text": [
      "Identified outliers: 81\n"
     ]
    }
   ],
   "source": [
    "# Identify outliers\n",
    "outliers = [x for x in data if x < lower or x > upper]\n",
    "print('Identified outliers: %d' % len(outliers))"
   ]
  },
  {
   "cell_type": "markdown",
   "metadata": {
    "colab_type": "text",
    "id": "vYx_gA9pPug3"
   },
   "source": [
    "- We identified a total of **81 outliers** in our data.\n",
    "\n",
    "- **Removing** the identified **outliers** from the data."
   ]
  },
  {
   "cell_type": "code",
   "execution_count": 12,
   "metadata": {
    "colab": {
     "base_uri": "https://localhost:8080/",
     "height": 34
    },
    "colab_type": "code",
    "executionInfo": {
     "elapsed": 1555,
     "status": "ok",
     "timestamp": 1591641874069,
     "user": {
      "displayName": "Mohit Raj",
      "photoUrl": "",
      "userId": "08119631072718595861"
     },
     "user_tz": -330
    },
    "id": "C0wDVgZ_BAZC",
    "outputId": "472dad3d-41d0-4bfa-cc85-5de27f41b530"
   },
   "outputs": [
    {
     "name": "stdout",
     "output_type": "stream",
     "text": [
      "Non-outlier observations: 9919\n"
     ]
    }
   ],
   "source": [
    "# Remove outliers\n",
    "outliers_removed = [x for x in data if x >= lower and x <= upper]\n",
    "print('Non-outlier observations: %d' % len(outliers_removed))"
   ]
  },
  {
   "cell_type": "markdown",
   "metadata": {
    "colab_type": "text",
    "id": "8ol9fbtqPug3"
   },
   "source": [
    "- We have **removed** the **outliers** from the data and are left with **9919** samples."
   ]
  },
  {
   "cell_type": "markdown",
   "metadata": {
    "colab_type": "text",
    "id": "r_xVOfinBmwJ"
   },
   "source": [
    "<a id = Section4></a>\n",
    "### **4. Automatic Outlier Detection**"
   ]
  },
  {
   "cell_type": "markdown",
   "metadata": {
    "colab_type": "text",
    "id": "TQpVlbOVBtqq"
   },
   "source": [
    "#### **Using LOF (Local Outlier Factor)**"
   ]
  },
  {
   "cell_type": "markdown",
   "metadata": {
    "colab_type": "text",
    "id": "HmGf_odzQJFW"
   },
   "source": [
    "- The **local outlier factor**, or **LOF** for short, is a technique that attempts to **harness** the idea of **nearest neighbors** for **outlier detection**.\n",
    "\n",
    "- **Each example** is **assigned** a **scoring** of how **isolated** or how **likely** it is to be **outliers** based on the **size** of its local **neighborhood**.\n",
    "\n",
    "- Those examples with the **largest score** are more likely to be **outliers**.\n",
    "\n",
    "- The scikit-learn library provides an implementation of this approach in the **LocalOutlierFactor** class."
   ]
  },
  {
   "cell_type": "code",
   "execution_count": 13,
   "metadata": {
    "colab": {},
    "colab_type": "code",
    "id": "-UqK46FJCMku"
   },
   "outputs": [],
   "source": [
    "import pandas as pd"
   ]
  },
  {
   "cell_type": "code",
   "execution_count": 14,
   "metadata": {
    "colab": {},
    "colab_type": "code",
    "id": "Gc7eUdppCH2b"
   },
   "outputs": [],
   "source": [
    "from sklearn.model_selection import train_test_split\n",
    "from sklearn.linear_model import LinearRegression\n",
    "from sklearn.metrics import mean_absolute_error\n",
    "from sklearn.neighbors import LocalOutlierFactor"
   ]
  },
  {
   "cell_type": "markdown",
   "metadata": {
    "colab_type": "text",
    "id": "RFgMddFvCwha"
   },
   "source": [
    "**Loading the Dataset**"
   ]
  },
  {
   "cell_type": "markdown",
   "metadata": {
    "colab_type": "text",
    "id": "8SYTa9tMSzD5"
   },
   "source": [
    "- We will use the **Boston Housing** regression problem that has **13 inputs** and **one numerical target**.\n",
    "\n",
    "- It requires learning the relationship between suburb characteristics and house prices."
   ]
  },
  {
   "cell_type": "code",
   "execution_count": 15,
   "metadata": {
    "colab": {
     "base_uri": "https://localhost:8080/",
     "height": 195
    },
    "colab_type": "code",
    "executionInfo": {
     "elapsed": 1178,
     "status": "ok",
     "timestamp": 1591642603027,
     "user": {
      "displayName": "Mohit Raj",
      "photoUrl": "",
      "userId": "08119631072718595861"
     },
     "user_tz": -330
    },
    "id": "AoF5nk_vCJ-b",
    "outputId": "115309af-cba1-4a78-cdcc-7ca23a54c714"
   },
   "outputs": [
    {
     "data": {
      "text/html": [
       "<div>\n",
       "<style scoped>\n",
       "    .dataframe tbody tr th:only-of-type {\n",
       "        vertical-align: middle;\n",
       "    }\n",
       "\n",
       "    .dataframe tbody tr th {\n",
       "        vertical-align: top;\n",
       "    }\n",
       "\n",
       "    .dataframe thead th {\n",
       "        text-align: right;\n",
       "    }\n",
       "</style>\n",
       "<table border=\"1\" class=\"dataframe\">\n",
       "  <thead>\n",
       "    <tr style=\"text-align: right;\">\n",
       "      <th></th>\n",
       "      <th>crim</th>\n",
       "      <th>zn</th>\n",
       "      <th>indus</th>\n",
       "      <th>chas</th>\n",
       "      <th>nox</th>\n",
       "      <th>rm</th>\n",
       "      <th>age</th>\n",
       "      <th>dis</th>\n",
       "      <th>rad</th>\n",
       "      <th>tax</th>\n",
       "      <th>ptratio</th>\n",
       "      <th>black</th>\n",
       "      <th>lstat</th>\n",
       "      <th>medv</th>\n",
       "    </tr>\n",
       "  </thead>\n",
       "  <tbody>\n",
       "    <tr>\n",
       "      <th>0</th>\n",
       "      <td>0.00632</td>\n",
       "      <td>18.0</td>\n",
       "      <td>2.31</td>\n",
       "      <td>0</td>\n",
       "      <td>0.538</td>\n",
       "      <td>6.575</td>\n",
       "      <td>65.2</td>\n",
       "      <td>4.0900</td>\n",
       "      <td>1</td>\n",
       "      <td>296.0</td>\n",
       "      <td>15.3</td>\n",
       "      <td>396.90</td>\n",
       "      <td>4.98</td>\n",
       "      <td>24.0</td>\n",
       "    </tr>\n",
       "    <tr>\n",
       "      <th>1</th>\n",
       "      <td>0.02731</td>\n",
       "      <td>0.0</td>\n",
       "      <td>7.07</td>\n",
       "      <td>0</td>\n",
       "      <td>0.469</td>\n",
       "      <td>6.421</td>\n",
       "      <td>78.9</td>\n",
       "      <td>4.9671</td>\n",
       "      <td>2</td>\n",
       "      <td>242.0</td>\n",
       "      <td>17.8</td>\n",
       "      <td>396.90</td>\n",
       "      <td>9.14</td>\n",
       "      <td>21.6</td>\n",
       "    </tr>\n",
       "    <tr>\n",
       "      <th>2</th>\n",
       "      <td>0.02729</td>\n",
       "      <td>0.0</td>\n",
       "      <td>7.07</td>\n",
       "      <td>0</td>\n",
       "      <td>0.469</td>\n",
       "      <td>7.185</td>\n",
       "      <td>61.1</td>\n",
       "      <td>4.9671</td>\n",
       "      <td>2</td>\n",
       "      <td>242.0</td>\n",
       "      <td>17.8</td>\n",
       "      <td>392.83</td>\n",
       "      <td>4.03</td>\n",
       "      <td>34.7</td>\n",
       "    </tr>\n",
       "    <tr>\n",
       "      <th>3</th>\n",
       "      <td>0.03237</td>\n",
       "      <td>0.0</td>\n",
       "      <td>2.18</td>\n",
       "      <td>0</td>\n",
       "      <td>0.458</td>\n",
       "      <td>6.998</td>\n",
       "      <td>45.8</td>\n",
       "      <td>6.0622</td>\n",
       "      <td>3</td>\n",
       "      <td>222.0</td>\n",
       "      <td>18.7</td>\n",
       "      <td>394.63</td>\n",
       "      <td>2.94</td>\n",
       "      <td>33.4</td>\n",
       "    </tr>\n",
       "    <tr>\n",
       "      <th>4</th>\n",
       "      <td>0.06905</td>\n",
       "      <td>0.0</td>\n",
       "      <td>2.18</td>\n",
       "      <td>0</td>\n",
       "      <td>0.458</td>\n",
       "      <td>7.147</td>\n",
       "      <td>54.2</td>\n",
       "      <td>6.0622</td>\n",
       "      <td>3</td>\n",
       "      <td>222.0</td>\n",
       "      <td>18.7</td>\n",
       "      <td>396.90</td>\n",
       "      <td>5.33</td>\n",
       "      <td>36.2</td>\n",
       "    </tr>\n",
       "  </tbody>\n",
       "</table>\n",
       "</div>"
      ],
      "text/plain": [
       "      crim    zn  indus  chas    nox     rm   age     dis  rad    tax  \\\n",
       "0  0.00632  18.0   2.31     0  0.538  6.575  65.2  4.0900    1  296.0   \n",
       "1  0.02731   0.0   7.07     0  0.469  6.421  78.9  4.9671    2  242.0   \n",
       "2  0.02729   0.0   7.07     0  0.469  7.185  61.1  4.9671    2  242.0   \n",
       "3  0.03237   0.0   2.18     0  0.458  6.998  45.8  6.0622    3  222.0   \n",
       "4  0.06905   0.0   2.18     0  0.458  7.147  54.2  6.0622    3  222.0   \n",
       "\n",
       "   ptratio   black  lstat  medv  \n",
       "0     15.3  396.90   4.98  24.0  \n",
       "1     17.8  396.90   9.14  21.6  \n",
       "2     17.8  392.83   4.03  34.7  \n",
       "3     18.7  394.63   2.94  33.4  \n",
       "4     18.7  396.90   5.33  36.2  "
      ]
     },
     "execution_count": 15,
     "metadata": {},
     "output_type": "execute_result"
    }
   ],
   "source": [
    "# load the dataset\n",
    "df = pd.read_csv('https://raw.githubusercontent.com/insaid2018/Term-2/master/Data/Boston.csv')\n",
    "df.head()"
   ]
  },
  {
   "cell_type": "code",
   "execution_count": 16,
   "metadata": {
    "colab": {
     "base_uri": "https://localhost:8080/",
     "height": 370
    },
    "colab_type": "code",
    "executionInfo": {
     "elapsed": 845,
     "status": "ok",
     "timestamp": 1591642605211,
     "user": {
      "displayName": "Mohit Raj",
      "photoUrl": "",
      "userId": "08119631072718595861"
     },
     "user_tz": -330
    },
    "id": "hy7GvhI1RBUX",
    "outputId": "faa20274-9fd1-428a-abd7-154a62e03caa"
   },
   "outputs": [
    {
     "name": "stdout",
     "output_type": "stream",
     "text": [
      "<class 'pandas.core.frame.DataFrame'>\n",
      "RangeIndex: 506 entries, 0 to 505\n",
      "Data columns (total 14 columns):\n",
      " #   Column   Non-Null Count  Dtype  \n",
      "---  ------   --------------  -----  \n",
      " 0   crim     506 non-null    float64\n",
      " 1   zn       506 non-null    float64\n",
      " 2   indus    506 non-null    float64\n",
      " 3   chas     506 non-null    int64  \n",
      " 4   nox      506 non-null    float64\n",
      " 5   rm       506 non-null    float64\n",
      " 6   age      506 non-null    float64\n",
      " 7   dis      506 non-null    float64\n",
      " 8   rad      506 non-null    int64  \n",
      " 9   tax      506 non-null    float64\n",
      " 10  ptratio  506 non-null    float64\n",
      " 11  black    506 non-null    float64\n",
      " 12  lstat    506 non-null    float64\n",
      " 13  medv     506 non-null    float64\n",
      "dtypes: float64(12), int64(2)\n",
      "memory usage: 55.5 KB\n"
     ]
    }
   ],
   "source": [
    "df.info()"
   ]
  },
  {
   "cell_type": "markdown",
   "metadata": {
    "colab_type": "text",
    "id": "HRYI7VpuCxJi"
   },
   "source": [
    "- The dataset has **506** samples, and **14** variables.\n",
    "\n",
    "- The `medv` is the **target** variable."
   ]
  },
  {
   "cell_type": "markdown",
   "metadata": {
    "colab_type": "text",
    "id": "rYdvnTZDTQhU"
   },
   "source": [
    "- First, we will retrieve the **array** of dataset **values**."
   ]
  },
  {
   "cell_type": "code",
   "execution_count": 17,
   "metadata": {
    "colab": {},
    "colab_type": "code",
    "id": "ThtqY6ZfCJ7t"
   },
   "outputs": [],
   "source": [
    "# Retrieve the array\n",
    "data = df.values"
   ]
  },
  {
   "cell_type": "markdown",
   "metadata": {
    "colab_type": "text",
    "id": "L5w7v8vHCxqN"
   },
   "source": [
    "- **Splitting** the dataset into **feature matrix, X** and **target variable, y**."
   ]
  },
  {
   "cell_type": "code",
   "execution_count": 18,
   "metadata": {
    "colab": {},
    "colab_type": "code",
    "id": "Hc0FaamDCT5j"
   },
   "outputs": [],
   "source": [
    "# Split into input and output elements\n",
    "X, y = data[:, :-1], data[:, -1]"
   ]
  },
  {
   "cell_type": "code",
   "execution_count": 19,
   "metadata": {
    "colab": {
     "base_uri": "https://localhost:8080/",
     "height": 34
    },
    "colab_type": "code",
    "executionInfo": {
     "elapsed": 771,
     "status": "ok",
     "timestamp": 1591642871066,
     "user": {
      "displayName": "Mohit Raj",
      "photoUrl": "",
      "userId": "08119631072718595861"
     },
     "user_tz": -330
    },
    "id": "wbSj_3h8Tr3l",
    "outputId": "22f6c06a-6d73-4877-fd06-d1b927aa69f2"
   },
   "outputs": [
    {
     "name": "stdout",
     "output_type": "stream",
     "text": [
      "(506, 13) (506,)\n"
     ]
    }
   ],
   "source": [
    "# Summarize the shape of the dataset\n",
    "print(X.shape, y.shape)"
   ]
  },
  {
   "cell_type": "markdown",
   "metadata": {
    "colab_type": "text",
    "id": "lKQc5Mo_C0G_"
   },
   "source": [
    "- **Splitting** the data into **train** and **test sets**."
   ]
  },
  {
   "cell_type": "code",
   "execution_count": 20,
   "metadata": {
    "colab": {},
    "colab_type": "code",
    "id": "G0Nxlz2LCWlI"
   },
   "outputs": [],
   "source": [
    "# Split into train and test sets\n",
    "X_train, X_test, y_train, y_test = train_test_split(X, y, test_size=0.33, random_state=1)"
   ]
  },
  {
   "cell_type": "code",
   "execution_count": 21,
   "metadata": {
    "colab": {
     "base_uri": "https://localhost:8080/",
     "height": 34
    },
    "colab_type": "code",
    "executionInfo": {
     "elapsed": 1748,
     "status": "ok",
     "timestamp": 1591642906168,
     "user": {
      "displayName": "Mohit Raj",
      "photoUrl": "",
      "userId": "08119631072718595861"
     },
     "user_tz": -330
    },
    "id": "tdFjI-HHC6Cb",
    "outputId": "fd587b92-2921-4421-b363-84fdb1821253"
   },
   "outputs": [
    {
     "name": "stdout",
     "output_type": "stream",
     "text": [
      "(339, 13) (339,)\n"
     ]
    }
   ],
   "source": [
    "# Summarize the shape of the training dataset\n",
    "print(X_train.shape, y_train.shape)"
   ]
  },
  {
   "cell_type": "markdown",
   "metadata": {
    "colab_type": "text",
    "id": "y2cFj1w8C0e4"
   },
   "source": [
    "- We will **fit** a **linear regression** algorithm on the **trainig** set.\n",
    "\n",
    "- And, then **evaluate model performance** by making a **predictions** on the **test** data and evaluate the predictions using the **mean absolute error** (**MAE**)."
   ]
  },
  {
   "cell_type": "code",
   "execution_count": 22,
   "metadata": {
    "colab": {
     "base_uri": "https://localhost:8080/",
     "height": 34
    },
    "colab_type": "code",
    "executionInfo": {
     "elapsed": 1243,
     "status": "ok",
     "timestamp": 1591643018729,
     "user": {
      "displayName": "Mohit Raj",
      "photoUrl": "",
      "userId": "08119631072718595861"
     },
     "user_tz": -330
    },
    "id": "9ZHoqjWhB51A",
    "outputId": "a2852137-966d-40ff-c322-70614b79f576"
   },
   "outputs": [
    {
     "data": {
      "text/plain": [
       "LinearRegression(copy_X=True, fit_intercept=True, n_jobs=None, normalize=False)"
      ]
     },
     "execution_count": 22,
     "metadata": {},
     "output_type": "execute_result"
    }
   ],
   "source": [
    "# Fit the model\n",
    "model = LinearRegression()\n",
    "model.fit(X_train, y_train)"
   ]
  },
  {
   "cell_type": "markdown",
   "metadata": {
    "colab_type": "text",
    "id": "QNXhK_tlC06n"
   },
   "source": [
    "- Making **predictions** on the test set."
   ]
  },
  {
   "cell_type": "code",
   "execution_count": 23,
   "metadata": {
    "colab": {},
    "colab_type": "code",
    "id": "qWqLiDhWCYNq"
   },
   "outputs": [],
   "source": [
    "# Evaluate the model\n",
    "yhat = model.predict(X_test)"
   ]
  },
  {
   "cell_type": "markdown",
   "metadata": {
    "colab_type": "text",
    "id": "6BVS4MqLC1e7"
   },
   "source": [
    "- **Evaluating** the **predictions** made by the model on test set."
   ]
  },
  {
   "cell_type": "code",
   "execution_count": 24,
   "metadata": {
    "colab": {
     "base_uri": "https://localhost:8080/",
     "height": 34
    },
    "colab_type": "code",
    "executionInfo": {
     "elapsed": 1498,
     "status": "ok",
     "timestamp": 1591643072775,
     "user": {
      "displayName": "Mohit Raj",
      "photoUrl": "",
      "userId": "08119631072718595861"
     },
     "user_tz": -330
    },
    "id": "2b_aUcUwCYKb",
    "outputId": "934c249e-40bb-4374-e919-e3c7186e88e0"
   },
   "outputs": [
    {
     "name": "stdout",
     "output_type": "stream",
     "text": [
      "MAE: 3.417\n"
     ]
    }
   ],
   "source": [
    "# Evaluate predictions\n",
    "mae = mean_absolute_error(y_test, yhat)\n",
    "print('MAE: %.3f' % mae)"
   ]
  },
  {
   "cell_type": "markdown",
   "metadata": {
    "colab_type": "text",
    "id": "8yTspaaJC18X"
   },
   "source": [
    "- In this case, we can see that the model achieved a **MAE** of about **3.417**."
   ]
  },
  {
   "cell_type": "markdown",
   "metadata": {
    "colab_type": "text",
    "id": "dkL1OFMsUnIn"
   },
   "source": [
    "**Identifying Outliers using LOF**"
   ]
  },
  {
   "cell_type": "markdown",
   "metadata": {
    "colab_type": "text",
    "id": "QA94o90AU7p7"
   },
   "source": [
    "- We will `LocalOutlierFactor` model to make a **prediction** on the **training** dataset, marking each row in the training dataset as **normal** (**1**) or an **outlier** (**-1**)."
   ]
  },
  {
   "cell_type": "code",
   "execution_count": 26,
   "metadata": {
    "colab": {},
    "colab_type": "code",
    "id": "ynz1-0cmC23w"
   },
   "outputs": [],
   "source": [
    "# Identify outliers in the training dataset\n",
    "lof = LocalOutlierFactor()\n",
    "yhat = lof.fit_predict(X_train)"
   ]
  },
  {
   "cell_type": "markdown",
   "metadata": {
    "colab_type": "text",
    "id": "ZygUUS0iC-Qg"
   },
   "source": [
    "- We can then use these **predictions** to **remove** all **outliers** from the training dataset."
   ]
  },
  {
   "cell_type": "code",
   "execution_count": 27,
   "metadata": {
    "colab": {},
    "colab_type": "code",
    "id": "4_OoXq37C20N"
   },
   "outputs": [],
   "source": [
    "# Select all rows that are not outliers\n",
    "mask = yhat != -1\n",
    "X_train, y_train = X_train[mask, :], y_train[mask]"
   ]
  },
  {
   "cell_type": "code",
   "execution_count": 28,
   "metadata": {
    "colab": {
     "base_uri": "https://localhost:8080/",
     "height": 34
    },
    "colab_type": "code",
    "executionInfo": {
     "elapsed": 1518,
     "status": "ok",
     "timestamp": 1591643276845,
     "user": {
      "displayName": "Mohit Raj",
      "photoUrl": "",
      "userId": "08119631072718595861"
     },
     "user_tz": -330
    },
    "id": "WQEUGQk-C2xC",
    "outputId": "3ed52b36-78b1-4700-a3c8-f593447ddd2a"
   },
   "outputs": [
    {
     "name": "stdout",
     "output_type": "stream",
     "text": [
      "(305, 13) (305,)\n"
     ]
    }
   ],
   "source": [
    "# Summarize the shape of the updated training dataset\n",
    "print(X_train.shape, y_train.shape)"
   ]
  },
  {
   "cell_type": "markdown",
   "metadata": {
    "colab_type": "text",
    "id": "xUpK2152DDFB"
   },
   "source": [
    "- Original train set had **339** samples, but **after outlier removal** we are left with **305** samples.\n",
    "\n",
    "- This implies that **34 rows** were **removed** from the train set.\n",
    "\n",
    "- We can now **fit** and **evaluate** the model as per normal."
   ]
  },
  {
   "cell_type": "code",
   "execution_count": 29,
   "metadata": {
    "colab": {
     "base_uri": "https://localhost:8080/",
     "height": 34
    },
    "colab_type": "code",
    "executionInfo": {
     "elapsed": 1710,
     "status": "ok",
     "timestamp": 1591643290960,
     "user": {
      "displayName": "Mohit Raj",
      "photoUrl": "",
      "userId": "08119631072718595861"
     },
     "user_tz": -330
    },
    "id": "NiZs0re_C2tg",
    "outputId": "8960fe0e-8be4-4eea-d444-c67bf51ab8e7"
   },
   "outputs": [
    {
     "data": {
      "text/plain": [
       "LinearRegression(copy_X=True, fit_intercept=True, n_jobs=None, normalize=False)"
      ]
     },
     "execution_count": 29,
     "metadata": {},
     "output_type": "execute_result"
    }
   ],
   "source": [
    "# Fit the model\n",
    "model = LinearRegression()\n",
    "model.fit(X_train, y_train)"
   ]
  },
  {
   "cell_type": "code",
   "execution_count": 30,
   "metadata": {
    "colab": {},
    "colab_type": "code",
    "id": "CkmIQ2DHDGpY"
   },
   "outputs": [],
   "source": [
    "# Evaluate the model\n",
    "yhat = model.predict(X_test)"
   ]
  },
  {
   "cell_type": "code",
   "execution_count": 31,
   "metadata": {
    "colab": {
     "base_uri": "https://localhost:8080/",
     "height": 34
    },
    "colab_type": "code",
    "executionInfo": {
     "elapsed": 1321,
     "status": "ok",
     "timestamp": 1591643370414,
     "user": {
      "displayName": "Mohit Raj",
      "photoUrl": "",
      "userId": "08119631072718595861"
     },
     "user_tz": -330
    },
    "id": "U-qBLdKACvjf",
    "outputId": "a59f601a-f3cd-4c40-b0a2-2e7560a7be0a"
   },
   "outputs": [
    {
     "name": "stdout",
     "output_type": "stream",
     "text": [
      "MAE: 3.356\n"
     ]
    }
   ],
   "source": [
    "# Evaluate predictions\n",
    "mae = mean_absolute_error(y_test, yhat)\n",
    "print('MAE: %.3f' % mae)"
   ]
  },
  {
   "cell_type": "markdown",
   "metadata": {
    "colab_type": "text",
    "id": "x18NZ3KDDFdo"
   },
   "source": [
    "- The model achieved a **MAE** of about **3.417**, which is **lower** than what was obtained before outlier removal."
   ]
  },
  {
   "cell_type": "markdown",
   "metadata": {
    "colab_type": "text",
    "id": "-gUDqGtqDLij"
   },
   "source": [
    "#### **Using IsolationForest**"
   ]
  },
  {
   "cell_type": "markdown",
   "metadata": {
    "colab_type": "text",
    "id": "ZdPYce4E9SIc"
   },
   "source": [
    "- **Isolation Forest** is an **unsupervised** learning algorithm that belongs to the **ensemble decision trees** family.\n",
    "\n",
    "- It explicitly **isolates anomalies** instead of profiling and constructing normal points and regions by **assigning** a **score** to each data point.\n",
    "\n",
    "- It takes **advantage** of the fact that **anomalies** are the **minority data points** and that they have **attribute-values** that are very **different** from those of **normal** instances.\n",
    "\n",
    "- This algorithm works **great** with very **high dimensional datasets** and it proved to be a very **effective** way of **detecting anomalies**."
   ]
  },
  {
   "cell_type": "code",
   "execution_count": 32,
   "metadata": {
    "colab": {},
    "colab_type": "code",
    "id": "dktoOZnVDcB1"
   },
   "outputs": [],
   "source": [
    "import numpy as np"
   ]
  },
  {
   "cell_type": "code",
   "execution_count": 33,
   "metadata": {
    "colab": {},
    "colab_type": "code",
    "id": "9c0-b4ugDg-P"
   },
   "outputs": [],
   "source": [
    "from sklearn.ensemble import IsolationForest"
   ]
  },
  {
   "cell_type": "markdown",
   "metadata": {
    "colab_type": "text",
    "id": "ABNfGX47DzFu"
   },
   "source": [
    "**Generating Data**"
   ]
  },
  {
   "cell_type": "code",
   "execution_count": 34,
   "metadata": {
    "colab": {},
    "colab_type": "code",
    "id": "3c441NoGDhSG"
   },
   "outputs": [],
   "source": [
    "np.random.seed(1)\n",
    "random_data = np.random.randn(50000,2)  * 20 + 20"
   ]
  },
  {
   "cell_type": "code",
   "execution_count": 35,
   "metadata": {
    "colab": {
     "base_uri": "https://localhost:8080/",
     "height": 34
    },
    "colab_type": "code",
    "executionInfo": {
     "elapsed": 2117,
     "status": "ok",
     "timestamp": 1591643947319,
     "user": {
      "displayName": "Mohit Raj",
      "photoUrl": "",
      "userId": "08119631072718595861"
     },
     "user_tz": -330
    },
    "id": "qglFSzrjXsLe",
    "outputId": "07f50469-60f8-4f1a-d6e9-b551da07fc94"
   },
   "outputs": [
    {
     "name": "stdout",
     "output_type": "stream",
     "text": [
      "(50000, 2)\n"
     ]
    }
   ],
   "source": [
    "# Summarize the shape of the dataset\n",
    "print(random_data.shape)"
   ]
  },
  {
   "cell_type": "markdown",
   "metadata": {
    "colab_type": "text",
    "id": "Lnd90fvuDznK"
   },
   "source": [
    "**Applying IsolationForest to our Data**"
   ]
  },
  {
   "cell_type": "code",
   "execution_count": null,
   "metadata": {
    "colab": {
     "base_uri": "https://localhost:8080/",
     "height": 34
    },
    "colab_type": "code",
    "executionInfo": {
     "elapsed": 3204,
     "status": "ok",
     "timestamp": 1591643721913,
     "user": {
      "displayName": "Mohit Raj",
      "photoUrl": "",
      "userId": "08119631072718595861"
     },
     "user_tz": -330
    },
    "id": "Qu-38IKzDZlz",
    "outputId": "b89b77c2-71d6-4393-83a5-bb099553b75c"
   },
   "outputs": [],
   "source": [
    "clf = IsolationForest(max_samples=100, random_state=1, contamination='auto')\n",
    "preds = clf.fit_predict(random_data)\n",
    "preds"
   ]
  },
  {
   "cell_type": "markdown",
   "metadata": {
    "colab_type": "text",
    "id": "KxOMPPRV9HfV"
   },
   "source": [
    "- This code will **output** the **predictions** for **each data point** in an array.\n",
    "\n",
    "- If the result is **-1**, it means that this specific data point is an **outlier**.\n",
    "\n",
    "- If the result is **1**, then it means that the data point is **not an outlier**."
   ]
  },
  {
   "cell_type": "markdown",
   "metadata": {
    "colab_type": "text",
    "id": "m_mcqy6HXJi-"
   },
   "source": [
    "- We can then use the **predictions** to **remove** all **outliers** from the data."
   ]
  },
  {
   "cell_type": "code",
   "execution_count": null,
   "metadata": {
    "colab": {},
    "colab_type": "code",
    "id": "-hLa4rd7XJjC"
   },
   "outputs": [],
   "source": [
    "# Select all rows that are not outliers\n",
    "mask = preds != -1\n",
    "outliers_removed = random_data[mask, :]"
   ]
  },
  {
   "cell_type": "code",
   "execution_count": null,
   "metadata": {
    "colab": {
     "base_uri": "https://localhost:8080/",
     "height": 34
    },
    "colab_type": "code",
    "executionInfo": {
     "elapsed": 1820,
     "status": "ok",
     "timestamp": 1591643977431,
     "user": {
      "displayName": "Mohit Raj",
      "photoUrl": "",
      "userId": "08119631072718595861"
     },
     "user_tz": -330
    },
    "id": "z1hVorFgXJjK",
    "outputId": "e9f10e9a-0c4e-4f55-a6aa-2d2ef6b15ca6"
   },
   "outputs": [],
   "source": [
    "# Summarize the shape of the dataset after outlier removal\n",
    "print(outliers_removed.shape)"
   ]
  },
  {
   "cell_type": "code",
   "execution_count": null,
   "metadata": {},
   "outputs": [],
   "source": [
    "train_o=df[df[\"SalePrice\"].notnull()]\n",
    "#print(train_o)\n",
    "from sklearn.neighbors import LocalOutlierFactor\n",
    "def detect_outliers(x, y, top=5, plot=True):\n",
    "    lof = LocalOutlierFactor(n_neighbors=40, contamination=0.1)\n",
    "    x_ =np.array(x).reshape(-1,1)\n",
    "    preds = lof.fit_predict(x_)\n",
    "    lof_scr = lof.negative_outlier_factor_\n",
    "    out_idx = pd.Series(lof_scr).sort_values()[:top].index\n",
    "    if plot:\n",
    "        f, ax = plt.subplots(figsize=(9, 6))\n",
    "        plt.scatter(x=x, y=y, c=np.exp(lof_scr), cmap='RdBu')\n",
    "    return out_idx\n",
    "\n",
    "outs = detect_outliers(train_o['GrLivArea'], train_o['SalePrice'],top=5) #got 1298,523\n",
    "outs\n",
    "plt.show()"
   ]
  },
  {
   "cell_type": "code",
   "execution_count": null,
   "metadata": {},
   "outputs": [],
   "source": [
    "from collections import Counter\n",
    "all_outliers=[]\n",
    " \n",
    "for feature in df:\n",
    "    try:\n",
    "        outs = detect_outliers(df[feature], df['SalePrice'],top=5, plot=True)\n",
    "    except:\n",
    "        continue\n",
    "    all_outliers.extend(outs)\n",
    "\n",
    "print(Counter(all_outliers).most_common())\n",
    "for i in outs:\n",
    "    if i in all_outliers:\n",
    "        print(i)\n",
    "train_o = train_o.drop(train_o.index[outs])\n",
    "test_o=df[df[\"SalePrice\"].isna()]\n",
    "dataset =  pd.concat(objs=[train_o, test_o], axis=0,sort=False).reset_index(drop=True)"
   ]
  },
  {
   "cell_type": "markdown",
   "metadata": {
    "colab_type": "text",
    "id": "p2o1tekeYAJi"
   },
   "source": [
    "- **14499** samples were **removed** from the data, as they were labelled as **outliers**."
   ]
  }
 ],
 "metadata": {
  "colab": {
   "authorship_tag": "ABX9TyOu/yptEcSm4liFMhQ3qa3a",
   "collapsed_sections": [],
   "name": "Handling Outliers.ipynb",
   "provenance": [],
   "toc_visible": true
  },
  "kernelspec": {
   "display_name": "Python 3",
   "language": "python",
   "name": "python3"
  },
  "language_info": {
   "codemirror_mode": {
    "name": "ipython",
    "version": 3
   },
   "file_extension": ".py",
   "mimetype": "text/x-python",
   "name": "python",
   "nbconvert_exporter": "python",
   "pygments_lexer": "ipython3",
   "version": "3.7.7"
  }
 },
 "nbformat": 4,
 "nbformat_minor": 1
}
